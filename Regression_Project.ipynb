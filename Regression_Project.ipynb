{
 "cells": [
  {
   "cell_type": "code",
   "execution_count": 5,
   "metadata": {},
   "outputs": [],
   "source": [
    "import pandas as pd\n",
    "import numpy as np\n",
    "import seaborn as sns\n",
    "import matplotlib.pyplot as plt\n",
    "%matplotlib inline\n",
    "\n",
    "#regression packages\n",
    "import sklearn.linear_model as lm\n",
    "from sklearn.metrics import mean_squared_error\n",
    "from sklearn.metrics import explained_variance_score\n",
    "\n",
    "#lasso regression\n",
    "from sklearn import linear_model\n",
    "\n",
    "#Ridge\n",
    "from sklearn.linear_model import Ridge\n",
    "\n",
    "#f_regression (feature selection)\n",
    "from sklearn.feature_selection import f_regression\n",
    "from sklearn.feature_selection import SelectKBest\n",
    "\n",
    "# recursive feature selection (feature selection)\n",
    "from sklearn.feature_selection import RFE\n",
    "\n",
    "import statsmodels.api as sm\n",
    "from statsmodels.formula.api import ols"
   ]
  },
  {
   "cell_type": "code",
   "execution_count": 6,
   "metadata": {},
   "outputs": [
    {
     "data": {
      "text/html": [
       "<div>\n",
       "<style scoped>\n",
       "    .dataframe tbody tr th:only-of-type {\n",
       "        vertical-align: middle;\n",
       "    }\n",
       "\n",
       "    .dataframe tbody tr th {\n",
       "        vertical-align: top;\n",
       "    }\n",
       "\n",
       "    .dataframe thead th {\n",
       "        text-align: right;\n",
       "    }\n",
       "</style>\n",
       "<table border=\"1\" class=\"dataframe\">\n",
       "  <thead>\n",
       "    <tr style=\"text-align: right;\">\n",
       "      <th></th>\n",
       "      <th>crim</th>\n",
       "      <th>zn</th>\n",
       "      <th>indus</th>\n",
       "      <th>chas</th>\n",
       "      <th>nox</th>\n",
       "      <th>rm</th>\n",
       "      <th>age</th>\n",
       "      <th>dis</th>\n",
       "      <th>rad</th>\n",
       "      <th>tax</th>\n",
       "      <th>ptratio</th>\n",
       "      <th>black</th>\n",
       "      <th>lstat</th>\n",
       "      <th>medv</th>\n",
       "    </tr>\n",
       "  </thead>\n",
       "  <tbody>\n",
       "    <tr>\n",
       "      <th>0</th>\n",
       "      <td>0.00632</td>\n",
       "      <td>18.0</td>\n",
       "      <td>2.31</td>\n",
       "      <td>0</td>\n",
       "      <td>0.538</td>\n",
       "      <td>6.575</td>\n",
       "      <td>65.2</td>\n",
       "      <td>4.0900</td>\n",
       "      <td>1</td>\n",
       "      <td>296</td>\n",
       "      <td>15.3</td>\n",
       "      <td>396.90</td>\n",
       "      <td>4.98</td>\n",
       "      <td>24.0</td>\n",
       "    </tr>\n",
       "    <tr>\n",
       "      <th>1</th>\n",
       "      <td>0.02731</td>\n",
       "      <td>0.0</td>\n",
       "      <td>7.07</td>\n",
       "      <td>0</td>\n",
       "      <td>0.469</td>\n",
       "      <td>6.421</td>\n",
       "      <td>78.9</td>\n",
       "      <td>4.9671</td>\n",
       "      <td>2</td>\n",
       "      <td>242</td>\n",
       "      <td>17.8</td>\n",
       "      <td>396.90</td>\n",
       "      <td>9.14</td>\n",
       "      <td>21.6</td>\n",
       "    </tr>\n",
       "    <tr>\n",
       "      <th>2</th>\n",
       "      <td>0.02729</td>\n",
       "      <td>0.0</td>\n",
       "      <td>7.07</td>\n",
       "      <td>0</td>\n",
       "      <td>0.469</td>\n",
       "      <td>7.185</td>\n",
       "      <td>61.1</td>\n",
       "      <td>4.9671</td>\n",
       "      <td>2</td>\n",
       "      <td>242</td>\n",
       "      <td>17.8</td>\n",
       "      <td>392.83</td>\n",
       "      <td>4.03</td>\n",
       "      <td>34.7</td>\n",
       "    </tr>\n",
       "    <tr>\n",
       "      <th>3</th>\n",
       "      <td>0.03237</td>\n",
       "      <td>0.0</td>\n",
       "      <td>2.18</td>\n",
       "      <td>0</td>\n",
       "      <td>0.458</td>\n",
       "      <td>6.998</td>\n",
       "      <td>45.8</td>\n",
       "      <td>6.0622</td>\n",
       "      <td>3</td>\n",
       "      <td>222</td>\n",
       "      <td>18.7</td>\n",
       "      <td>394.63</td>\n",
       "      <td>2.94</td>\n",
       "      <td>33.4</td>\n",
       "    </tr>\n",
       "    <tr>\n",
       "      <th>4</th>\n",
       "      <td>0.06905</td>\n",
       "      <td>0.0</td>\n",
       "      <td>2.18</td>\n",
       "      <td>0</td>\n",
       "      <td>0.458</td>\n",
       "      <td>7.147</td>\n",
       "      <td>54.2</td>\n",
       "      <td>6.0622</td>\n",
       "      <td>3</td>\n",
       "      <td>222</td>\n",
       "      <td>18.7</td>\n",
       "      <td>396.90</td>\n",
       "      <td>5.33</td>\n",
       "      <td>36.2</td>\n",
       "    </tr>\n",
       "  </tbody>\n",
       "</table>\n",
       "</div>"
      ],
      "text/plain": [
       "      crim    zn  indus  chas    nox     rm   age     dis  rad  tax  ptratio  \\\n",
       "0  0.00632  18.0   2.31     0  0.538  6.575  65.2  4.0900    1  296     15.3   \n",
       "1  0.02731   0.0   7.07     0  0.469  6.421  78.9  4.9671    2  242     17.8   \n",
       "2  0.02729   0.0   7.07     0  0.469  7.185  61.1  4.9671    2  242     17.8   \n",
       "3  0.03237   0.0   2.18     0  0.458  6.998  45.8  6.0622    3  222     18.7   \n",
       "4  0.06905   0.0   2.18     0  0.458  7.147  54.2  6.0622    3  222     18.7   \n",
       "\n",
       "    black  lstat  medv  \n",
       "0  396.90   4.98  24.0  \n",
       "1  396.90   9.14  21.6  \n",
       "2  392.83   4.03  34.7  \n",
       "3  394.63   2.94  33.4  \n",
       "4  396.90   5.33  36.2  "
      ]
     },
     "execution_count": 6,
     "metadata": {},
     "output_type": "execute_result"
    }
   ],
   "source": [
    "df = pd.read_csv(\"data/b_housing.csv\")\n",
    "df.head()"
   ]
  },
  {
   "cell_type": "code",
   "execution_count": 7,
   "metadata": {},
   "outputs": [
    {
     "data": {
      "text/html": [
       "<div>\n",
       "<style scoped>\n",
       "    .dataframe tbody tr th:only-of-type {\n",
       "        vertical-align: middle;\n",
       "    }\n",
       "\n",
       "    .dataframe tbody tr th {\n",
       "        vertical-align: top;\n",
       "    }\n",
       "\n",
       "    .dataframe thead th {\n",
       "        text-align: right;\n",
       "    }\n",
       "</style>\n",
       "<table border=\"1\" class=\"dataframe\">\n",
       "  <thead>\n",
       "    <tr style=\"text-align: right;\">\n",
       "      <th></th>\n",
       "      <th>crim</th>\n",
       "      <th>zn</th>\n",
       "      <th>indus</th>\n",
       "      <th>chas</th>\n",
       "      <th>nox</th>\n",
       "      <th>rm</th>\n",
       "      <th>age</th>\n",
       "      <th>dis</th>\n",
       "      <th>rad</th>\n",
       "      <th>tax</th>\n",
       "      <th>ptratio</th>\n",
       "      <th>black</th>\n",
       "      <th>lstat</th>\n",
       "      <th>medv</th>\n",
       "    </tr>\n",
       "  </thead>\n",
       "  <tbody>\n",
       "    <tr>\n",
       "      <th>count</th>\n",
       "      <td>508.000000</td>\n",
       "      <td>508.000000</td>\n",
       "      <td>508.000000</td>\n",
       "      <td>508.000000</td>\n",
       "      <td>508.000000</td>\n",
       "      <td>508.000000</td>\n",
       "      <td>508.000000</td>\n",
       "      <td>508.000000</td>\n",
       "      <td>508.000000</td>\n",
       "      <td>508.000000</td>\n",
       "      <td>508.000000</td>\n",
       "      <td>508.000000</td>\n",
       "      <td>508.000000</td>\n",
       "      <td>508.000000</td>\n",
       "    </tr>\n",
       "    <tr>\n",
       "      <th>mean</th>\n",
       "      <td>3.599645</td>\n",
       "      <td>11.368110</td>\n",
       "      <td>11.123917</td>\n",
       "      <td>0.068898</td>\n",
       "      <td>0.554574</td>\n",
       "      <td>6.283561</td>\n",
       "      <td>88.055315</td>\n",
       "      <td>3.801993</td>\n",
       "      <td>9.531496</td>\n",
       "      <td>407.854331</td>\n",
       "      <td>18.442717</td>\n",
       "      <td>356.827283</td>\n",
       "      <td>12.652185</td>\n",
       "      <td>22.534252</td>\n",
       "    </tr>\n",
       "    <tr>\n",
       "      <th>std</th>\n",
       "      <td>8.587406</td>\n",
       "      <td>23.276516</td>\n",
       "      <td>6.849870</td>\n",
       "      <td>0.253530</td>\n",
       "      <td>0.115665</td>\n",
       "      <td>0.701438</td>\n",
       "      <td>441.531284</td>\n",
       "      <td>2.104464</td>\n",
       "      <td>8.694746</td>\n",
       "      <td>168.314766</td>\n",
       "      <td>2.170287</td>\n",
       "      <td>91.147283</td>\n",
       "      <td>7.126976</td>\n",
       "      <td>9.178975</td>\n",
       "    </tr>\n",
       "    <tr>\n",
       "      <th>min</th>\n",
       "      <td>0.006320</td>\n",
       "      <td>0.000000</td>\n",
       "      <td>0.460000</td>\n",
       "      <td>0.000000</td>\n",
       "      <td>0.385000</td>\n",
       "      <td>3.561000</td>\n",
       "      <td>2.900000</td>\n",
       "      <td>1.129600</td>\n",
       "      <td>1.000000</td>\n",
       "      <td>187.000000</td>\n",
       "      <td>12.600000</td>\n",
       "      <td>0.320000</td>\n",
       "      <td>1.730000</td>\n",
       "      <td>5.000000</td>\n",
       "    </tr>\n",
       "    <tr>\n",
       "      <th>25%</th>\n",
       "      <td>0.082155</td>\n",
       "      <td>0.000000</td>\n",
       "      <td>5.190000</td>\n",
       "      <td>0.000000</td>\n",
       "      <td>0.449000</td>\n",
       "      <td>5.886500</td>\n",
       "      <td>45.075000</td>\n",
       "      <td>2.100525</td>\n",
       "      <td>4.000000</td>\n",
       "      <td>279.000000</td>\n",
       "      <td>17.225000</td>\n",
       "      <td>375.472500</td>\n",
       "      <td>6.990000</td>\n",
       "      <td>17.075000</td>\n",
       "    </tr>\n",
       "    <tr>\n",
       "      <th>50%</th>\n",
       "      <td>0.253715</td>\n",
       "      <td>0.000000</td>\n",
       "      <td>9.690000</td>\n",
       "      <td>0.000000</td>\n",
       "      <td>0.538000</td>\n",
       "      <td>6.205000</td>\n",
       "      <td>77.150000</td>\n",
       "      <td>3.215700</td>\n",
       "      <td>5.000000</td>\n",
       "      <td>330.000000</td>\n",
       "      <td>19.000000</td>\n",
       "      <td>391.475000</td>\n",
       "      <td>11.395000</td>\n",
       "      <td>21.200000</td>\n",
       "    </tr>\n",
       "    <tr>\n",
       "      <th>75%</th>\n",
       "      <td>3.674807</td>\n",
       "      <td>12.500000</td>\n",
       "      <td>18.100000</td>\n",
       "      <td>0.000000</td>\n",
       "      <td>0.624000</td>\n",
       "      <td>6.620500</td>\n",
       "      <td>94.025000</td>\n",
       "      <td>5.214600</td>\n",
       "      <td>24.000000</td>\n",
       "      <td>666.000000</td>\n",
       "      <td>20.200000</td>\n",
       "      <td>396.215000</td>\n",
       "      <td>16.945000</td>\n",
       "      <td>25.000000</td>\n",
       "    </tr>\n",
       "    <tr>\n",
       "      <th>max</th>\n",
       "      <td>88.976200</td>\n",
       "      <td>100.000000</td>\n",
       "      <td>27.740000</td>\n",
       "      <td>1.000000</td>\n",
       "      <td>0.871000</td>\n",
       "      <td>8.780000</td>\n",
       "      <td>10000.000000</td>\n",
       "      <td>12.126500</td>\n",
       "      <td>24.000000</td>\n",
       "      <td>711.000000</td>\n",
       "      <td>22.000000</td>\n",
       "      <td>396.900000</td>\n",
       "      <td>37.970000</td>\n",
       "      <td>50.000000</td>\n",
       "    </tr>\n",
       "  </tbody>\n",
       "</table>\n",
       "</div>"
      ],
      "text/plain": [
       "             crim          zn       indus        chas         nox          rm  \\\n",
       "count  508.000000  508.000000  508.000000  508.000000  508.000000  508.000000   \n",
       "mean     3.599645   11.368110   11.123917    0.068898    0.554574    6.283561   \n",
       "std      8.587406   23.276516    6.849870    0.253530    0.115665    0.701438   \n",
       "min      0.006320    0.000000    0.460000    0.000000    0.385000    3.561000   \n",
       "25%      0.082155    0.000000    5.190000    0.000000    0.449000    5.886500   \n",
       "50%      0.253715    0.000000    9.690000    0.000000    0.538000    6.205000   \n",
       "75%      3.674807   12.500000   18.100000    0.000000    0.624000    6.620500   \n",
       "max     88.976200  100.000000   27.740000    1.000000    0.871000    8.780000   \n",
       "\n",
       "                age         dis         rad         tax     ptratio  \\\n",
       "count    508.000000  508.000000  508.000000  508.000000  508.000000   \n",
       "mean      88.055315    3.801993    9.531496  407.854331   18.442717   \n",
       "std      441.531284    2.104464    8.694746  168.314766    2.170287   \n",
       "min        2.900000    1.129600    1.000000  187.000000   12.600000   \n",
       "25%       45.075000    2.100525    4.000000  279.000000   17.225000   \n",
       "50%       77.150000    3.215700    5.000000  330.000000   19.000000   \n",
       "75%       94.025000    5.214600   24.000000  666.000000   20.200000   \n",
       "max    10000.000000   12.126500   24.000000  711.000000   22.000000   \n",
       "\n",
       "            black       lstat        medv  \n",
       "count  508.000000  508.000000  508.000000  \n",
       "mean   356.827283   12.652185   22.534252  \n",
       "std     91.147283    7.126976    9.178975  \n",
       "min      0.320000    1.730000    5.000000  \n",
       "25%    375.472500    6.990000   17.075000  \n",
       "50%    391.475000   11.395000   21.200000  \n",
       "75%    396.215000   16.945000   25.000000  \n",
       "max    396.900000   37.970000   50.000000  "
      ]
     },
     "execution_count": 7,
     "metadata": {},
     "output_type": "execute_result"
    }
   ],
   "source": [
    "df.describe()"
   ]
  },
  {
   "cell_type": "code",
   "execution_count": 8,
   "metadata": {},
   "outputs": [
    {
     "data": {
      "text/plain": [
       "lstat     -0.737664\n",
       "ptratio   -0.505771\n",
       "indus     -0.483582\n",
       "tax       -0.468318\n",
       "nox       -0.427302\n",
       "crim      -0.388239\n",
       "rad       -0.381502\n",
       "age       -0.053058\n",
       "chas       0.175191\n",
       "dis        0.249714\n",
       "black      0.333407\n",
       "zn         0.360450\n",
       "rm         0.695090\n",
       "medv       1.000000\n",
       "Name: medv, dtype: float64"
      ]
     },
     "execution_count": 8,
     "metadata": {},
     "output_type": "execute_result"
    }
   ],
   "source": [
    "df.corr()['medv'].sort_values()"
   ]
  },
  {
   "cell_type": "markdown",
   "metadata": {},
   "source": [
    "#looks like lstat has a strong negative correlation with medv"
   ]
  },
  {
   "cell_type": "code",
   "execution_count": 9,
   "metadata": {},
   "outputs": [
    {
     "data": {
      "text/plain": [
       "<matplotlib.axes._subplots.AxesSubplot at 0x1f27e4f6588>"
      ]
     },
     "execution_count": 9,
     "metadata": {},
     "output_type": "execute_result"
    },
    {
     "data": {
      "image/png": "[encoded data removed]",
      "text/plain": [
       "<Figure size 864x576 with 2 Axes>"
      ]
     },
     "metadata": {
      "needs_background": "light"
     },
     "output_type": "display_data"
    }
   ],
   "source": [
    "plt.figure(figsize=(12,8))\n",
    "sns.heatmap(df.corr(), annot=True)"
   ]
  },
  {
   "cell_type": "code",
   "execution_count": 10,
   "metadata": {},
   "outputs": [
    {
     "data": {
      "text/plain": [
       "<seaborn.axisgrid.FacetGrid at 0x1f202149088>"
      ]
     },
     "execution_count": 10,
     "metadata": {},
     "output_type": "execute_result"
    },
    {
     "data": {
      "image/png": "[encoded data removed]",
      "text/plain": [
       "<Figure size 360x360 with 1 Axes>"
      ]
     },
     "metadata": {
      "needs_background": "light"
     },
     "output_type": "display_data"
    }
   ],
   "source": [
    "sns.lmplot('lstat', 'medv', df)"
   ]
  },
  {
   "cell_type": "code",
   "execution_count": 11,
   "metadata": {},
   "outputs": [
    {
     "name": "stdout",
     "output_type": "stream",
     "text": [
      "Coefficients:  [-0.95005203]\n",
      "y-intercept  34.55448608775667\n"
     ]
    }
   ],
   "source": [
    "#linear regression lstat\n",
    "X = df['lstat']\n",
    "y = df['medv']\n",
    "model1 = lm.LinearRegression()\n",
    "\n",
    "model1.fit(X[:,np.newaxis], y)    \n",
    "model1_y = model1.predict(X[:,np.newaxis])\n",
    "print('Coefficients: ', model1.coef_)\n",
    "print(\"y-intercept \", model1.intercept_)"
   ]
  },
  {
   "cell_type": "code",
   "execution_count": 12,
   "metadata": {},
   "outputs": [
    {
     "data": {
      "image/png": "[encoded data removed]",
      "text/plain": [
       "<Figure size 432x288 with 1 Axes>"
      ]
     },
     "metadata": {
      "needs_background": "light"
     },
     "output_type": "display_data"
    }
   ],
   "source": [
    "plt.subplots()\n",
    "plt.scatter(y, model1_y)\n",
    "plt.plot([y.min(), y.max()], [y.min(), y.max()], 'k--', lw=4)   #dotted line represents perfect prediction (actual = predicted)\n",
    "plt.xlabel('Actual')\n",
    "plt.ylabel('Predicted')\n",
    "plt.show()"
   ]
  },
  {
   "cell_type": "code",
   "execution_count": 13,
   "metadata": {},
   "outputs": [
    {
     "name": "stdout",
     "output_type": "stream",
     "text": [
      "Coefficients:  [9.09590652]\n",
      "y-intercept  -34.6204317421665\n"
     ]
    }
   ],
   "source": [
    "#linear regression rm\n",
    "X = df['rm']\n",
    "y = df['medv'] \n",
    "model2 = lm.LinearRegression()\n",
    "model2.fit(X[:,np.newaxis], y)\n",
    "model2_y = model2.predict(X[:,np.newaxis])\n",
    "print('Coefficients: ', model2.coef_)\n",
    "print(\"y-intercept \", model2.intercept_)"
   ]
  },
  {
   "cell_type": "code",
   "execution_count": 14,
   "metadata": {},
   "outputs": [
    {
     "name": "stdout",
     "output_type": "stream",
     "text": [
      "mean square error:  38.33155403042411\n",
      "0.5441480396158109\n"
     ]
    }
   ],
   "source": [
    "print(\"mean square error: \", mean_squared_error(y, model1_y))\n",
    "print(explained_variance_score(y, model1_y))"
   ]
  },
  {
   "cell_type": "code",
   "execution_count": 15,
   "metadata": {},
   "outputs": [
    {
     "name": "stdout",
     "output_type": "stream",
     "text": [
      "mean square error:  43.460701489475504\n",
      "0.4831504624642986\n"
     ]
    }
   ],
   "source": [
    "print(\"mean square error: \", mean_squared_error(y, model2_y))\n",
    "print(explained_variance_score(y, model2_y))"
   ]
  },
  {
   "cell_type": "code",
   "execution_count": 16,
   "metadata": {},
   "outputs": [
    {
     "name": "stdout",
     "output_type": "stream",
     "text": [
      "                            OLS Regression Results                            \n",
      "==============================================================================\n",
      "Dep. Variable:                   medv   R-squared:                       0.544\n",
      "Model:                            OLS   Adj. R-squared:                  0.543\n",
      "Method:                 Least Squares   F-statistic:                     604.0\n",
      "Date:                Wed, 08 Apr 2020   Prob (F-statistic):           2.31e-88\n",
      "Time:                        17:51:24   Log-Likelihood:                -1647.0\n",
      "No. Observations:                 508   AIC:                             3298.\n",
      "Df Residuals:                     506   BIC:                             3306.\n",
      "Df Model:                           1                                         \n",
      "Covariance Type:            nonrobust                                         \n",
      "==============================================================================\n",
      "                 coef    std err          t      P>|t|      [0.025      0.975]\n",
      "------------------------------------------------------------------------------\n",
      "Intercept     34.5545      0.561     61.571      0.000      33.452      35.657\n",
      "lstat         -0.9501      0.039    -24.577      0.000      -1.026      -0.874\n",
      "==============================================================================\n",
      "Omnibus:                      138.089   Durbin-Watson:                   0.904\n",
      "Prob(Omnibus):                  0.000   Jarque-Bera (JB):              295.169\n",
      "Skew:                           1.455   Prob(JB):                     8.03e-65\n",
      "Kurtosis:                       5.340   Cond. No.                         29.7\n",
      "==============================================================================\n",
      "\n",
      "Warnings:\n",
      "[1] Standard Errors assume that the covariance matrix of the errors is correctly specified.\n"
     ]
    }
   ],
   "source": [
    "runs_reg_model1 = ols(\"medv~lstat\", df)\n",
    "runs_reg1 = runs_reg_model1.fit()\n",
    "print(runs_reg1.summary())"
   ]
  },
  {
   "cell_type": "code",
   "execution_count": 17,
   "metadata": {},
   "outputs": [
    {
     "name": "stdout",
     "output_type": "stream",
     "text": [
      "                            OLS Regression Results                            \n",
      "==============================================================================\n",
      "Dep. Variable:                   medv   R-squared:                       0.483\n",
      "Model:                            OLS   Adj. R-squared:                  0.482\n",
      "Method:                 Least Squares   F-statistic:                     473.0\n",
      "Date:                Wed, 08 Apr 2020   Prob (F-statistic):           1.54e-74\n",
      "Time:                        17:51:24   Log-Likelihood:                -1678.9\n",
      "No. Observations:                 508   AIC:                             3362.\n",
      "Df Residuals:                     506   BIC:                             3370.\n",
      "Df Model:                           1                                         \n",
      "Covariance Type:            nonrobust                                         \n",
      "==============================================================================\n",
      "                 coef    std err          t      P>|t|      [0.025      0.975]\n",
      "------------------------------------------------------------------------------\n",
      "Intercept    -34.6204      2.644    -13.093      0.000     -39.815     -29.425\n",
      "rm             9.0959      0.418     21.749      0.000       8.274       9.918\n",
      "==============================================================================\n",
      "Omnibus:                      102.693   Durbin-Watson:                   0.688\n",
      "Prob(Omnibus):                  0.000   Jarque-Bera (JB):              616.630\n",
      "Skew:                           0.722   Prob(JB):                    1.26e-134\n",
      "Kurtosis:                       8.201   Cond. No.                         58.5\n",
      "==============================================================================\n",
      "\n",
      "Warnings:\n",
      "[1] Standard Errors assume that the covariance matrix of the errors is correctly specified.\n"
     ]
    }
   ],
   "source": [
    "runs_reg_model2 = ols(\"medv~rm\", df)\n",
    "runs_reg2 = runs_reg_model2.fit()\n",
    "print(runs_reg2.summary())"
   ]
  },
  {
   "cell_type": "code",
   "execution_count": 18,
   "metadata": {},
   "outputs": [],
   "source": [
    "y = df[['medv']] \n",
    "X = df[['crim','zn','indus','chas','nox','rm','age','dis','rad','tax','ptratio','black','lstat']]"
   ]
  },
  {
   "cell_type": "code",
   "execution_count": 19,
   "metadata": {},
   "outputs": [],
   "source": [
    "model1 = linear_model.Lasso(alpha=.1)            \n",
    "model1.fit(X, y)\n",
    "model1_y = model1.predict(X)"
   ]
  },
  {
   "cell_type": "code",
   "execution_count": 20,
   "metadata": {},
   "outputs": [
    {
     "name": "stdout",
     "output_type": "stream",
     "text": [
      "Coefficients:  [-9.64240616e-02  5.17031026e-02 -3.94850484e-02  9.14194528e-01\n",
      " -0.00000000e+00  3.61922602e+00  5.64796768e-04 -1.11792690e+00\n",
      "  2.75473235e-01 -1.47005342e-02 -7.53620924e-01  1.00381945e-02\n",
      " -5.94069732e-01]\n",
      "y-intercept  [25.33201008]\n"
     ]
    }
   ],
   "source": [
    "print('Coefficients: ', model1.coef_)\n",
    "print(\"y-intercept \", model1.intercept_)"
   ]
  },
  {
   "cell_type": "code",
   "execution_count": null,
   "metadata": {},
   "outputs": [],
   "source": []
  },
  {
   "cell_type": "code",
   "execution_count": 21,
   "metadata": {},
   "outputs": [
    {
     "data": {
      "text/plain": [
       "[('crim', '-0.096'),\n",
       " ('zn', '0.052'),\n",
       " ('indus', '-0.039'),\n",
       " ('chas', '0.914'),\n",
       " ('nox', '-0.000'),\n",
       " ('rm', '3.619'),\n",
       " ('age', '0.001'),\n",
       " ('dis', '-1.118'),\n",
       " ('rad', '0.275'),\n",
       " ('tax', '-0.015'),\n",
       " ('ptratio', '-0.754'),\n",
       " ('black', '0.010'),\n",
       " ('lstat', '-0.594')]"
      ]
     },
     "execution_count": 21,
     "metadata": {},
     "output_type": "execute_result"
    }
   ],
   "source": [
    "coef = [\"%.3f\" % i for i in model1.coef_]\n",
    "xcolumns = [ i for i in X.columns ]\n",
    "list(zip(xcolumns, coef))"
   ]
  },
  {
   "cell_type": "code",
   "execution_count": 22,
   "metadata": {},
   "outputs": [],
   "source": [
    "model2 = Ridge(alpha=1.0)\n",
    "model2.fit(X, y)\n",
    "model2_y = model2.predict(X)"
   ]
  },
  {
   "cell_type": "code",
   "execution_count": 23,
   "metadata": {},
   "outputs": [
    {
     "name": "stdout",
     "output_type": "stream",
     "text": [
      "Coefficients:  [[-1.03463283e-01  4.90938945e-02 -9.05771174e-03  2.53826590e+00\n",
      "  -1.10028634e+01  3.79907290e+00  5.39544027e-04 -1.36044555e+00\n",
      "   2.90576370e-01 -1.29500834e-02 -8.63736493e-01  9.50539619e-03\n",
      "  -5.50650503e-01]]\n",
      "y-intercept  [31.64646274]\n"
     ]
    }
   ],
   "source": [
    "print('Coefficients: ', model2.coef_)\n",
    "print(\"y-intercept \", model2.intercept_)"
   ]
  },
  {
   "cell_type": "code",
   "execution_count": 24,
   "metadata": {},
   "outputs": [
    {
     "name": "stdout",
     "output_type": "stream",
     "text": [
      "mean square error:  22.958861233551197\n",
      "variance or r-squared:  0.7269653640132607\n"
     ]
    }
   ],
   "source": [
    "print(\"mean square error: \", mean_squared_error(y, model1_y))\n",
    "print(\"variance or r-squared: \", explained_variance_score(y, model1_y))"
   ]
  },
  {
   "cell_type": "code",
   "execution_count": 25,
   "metadata": {},
   "outputs": [
    {
     "name": "stdout",
     "output_type": "stream",
     "text": [
      "mean square error:  21.902811452804954\n",
      "variance or r-squared:  0.7395242694631774\n"
     ]
    }
   ],
   "source": [
    "print(\"mean square error: \", mean_squared_error(y, model2_y))\n",
    "print(\"variance or r-squared: \", explained_variance_score(y, model2_y))\n",
    "#Ridge model was more accurate"
   ]
  },
  {
   "cell_type": "code",
   "execution_count": 26,
   "metadata": {},
   "outputs": [
    {
     "name": "stderr",
     "output_type": "stream",
     "text": [
      "C:\\ProgramData\\Anaconda3\\lib\\site-packages\\sklearn\\utils\\validation.py:760: DataConversionWarning: A column-vector y was passed when a 1d array was expected. Please change the shape of y to (n_samples, ), for example using ravel().\n",
      "  y = column_or_1d(y, warn=True)\n"
     ]
    },
    {
     "data": {
      "text/plain": [
       "array([[ 6.575,  4.98 ],\n",
       "       [ 6.421,  9.14 ],\n",
       "       [ 7.185,  4.03 ],\n",
       "       ...,\n",
       "       [ 6.03 ,  7.88 ],\n",
       "       [ 6.012, 12.43 ],\n",
       "       [ 6.012, 12.43 ]])"
      ]
     },
     "execution_count": 26,
     "metadata": {},
     "output_type": "execute_result"
    }
   ],
   "source": [
    "X_new = SelectKBest(f_regression, k=2).fit_transform(X, y)\n",
    "X_new"
   ]
  },
  {
   "cell_type": "code",
   "execution_count": 27,
   "metadata": {},
   "outputs": [
    {
     "name": "stdout",
     "output_type": "stream",
     "text": [
      "[ 5 12]\n"
     ]
    },
    {
     "name": "stderr",
     "output_type": "stream",
     "text": [
      "C:\\ProgramData\\Anaconda3\\lib\\site-packages\\sklearn\\utils\\validation.py:760: DataConversionWarning: A column-vector y was passed when a 1d array was expected. Please change the shape of y to (n_samples, ), for example using ravel().\n",
      "  y = column_or_1d(y, warn=True)\n"
     ]
    }
   ],
   "source": [
    "selector = SelectKBest(f_regression, k=2).fit(X, y)\n",
    "idxs_selected = selector.get_support(indices=True)\n",
    "print(idxs_selected)"
   ]
  },
  {
   "cell_type": "code",
   "execution_count": 28,
   "metadata": {},
   "outputs": [
    {
     "data": {
      "text/plain": [
       "'lstat'"
      ]
     },
     "execution_count": 28,
     "metadata": {},
     "output_type": "execute_result"
    }
   ],
   "source": [
    "X.columns[12]"
   ]
  },
  {
   "cell_type": "code",
   "execution_count": 29,
   "metadata": {},
   "outputs": [
    {
     "name": "stderr",
     "output_type": "stream",
     "text": [
      "C:\\ProgramData\\Anaconda3\\lib\\site-packages\\sklearn\\utils\\validation.py:760: DataConversionWarning: A column-vector y was passed when a 1d array was expected. Please change the shape of y to (n_samples, ), for example using ravel().\n",
      "  y = column_or_1d(y, warn=True)\n"
     ]
    },
    {
     "name": "stdout",
     "output_type": "stream",
     "text": [
      "mean square error:  27.033007690927718\n",
      "variance or r-squared:  0.6785142198719796\n"
     ]
    }
   ],
   "source": [
    "X_n = SelectKBest(f_regression, k=3).fit_transform(X, y)\n",
    "\n",
    "model3 = lm.LinearRegression()\n",
    "model3.fit(X_n, y)\n",
    "model3_y = model3.predict(X_n)\n",
    "\n",
    "print(\"mean square error: \", mean_squared_error(y, model3_y))\n",
    "print(\"variance or r-squared: \", explained_variance_score(y, model3_y))\n",
    "\n"
   ]
  },
  {
   "cell_type": "markdown",
   "metadata": {},
   "source": [
    "Best model is ridge regression model with mean square error:  21.902811452804954\n",
    "variance or r-squared:  0.7395242694631774"
   ]
  },
  {
   "cell_type": "code",
   "execution_count": 30,
   "metadata": {},
   "outputs": [
    {
     "data": {
      "image/png": "[encoded data removed]",
      "text/plain": [
       "<Figure size 432x288 with 1 Axes>"
      ]
     },
     "metadata": {
      "needs_background": "light"
     },
     "output_type": "display_data"
    }
   ],
   "source": [
    "plt.subplots()\n",
    "plt.scatter(y, model3_y)\n",
    "plt.plot([y.min(), y.max()], [y.min(), y.max()], 'k--', lw=4)   #dotted line represents perfect prediction (actual = predicted)\n",
    "plt.xlabel('Actual')\n",
    "plt.ylabel('Predicted')\n",
    "plt.show()\n",
    "#ridge"
   ]
  },
  {
   "cell_type": "code",
   "execution_count": 31,
   "metadata": {},
   "outputs": [
    {
     "data": {
      "image/png": "[encoded data removed]",
      "text/plain": [
       "<Figure size 432x288 with 1 Axes>"
      ]
     },
     "metadata": {
      "needs_background": "light"
     },
     "output_type": "display_data"
    }
   ],
   "source": [
    "#lasso\n",
    "plt.subplots()\n",
    "plt.scatter(y, model2_y)\n",
    "plt.plot([y.min(), y.max()], [y.min(), y.max()], 'k--', lw=4)   #dotted line represents perfect prediction (actual = predicted)\n",
    "plt.xlabel('Actual')\n",
    "plt.ylabel('Predicted')\n",
    "plt.show()"
   ]
  },
  {
   "cell_type": "code",
   "execution_count": 32,
   "metadata": {},
   "outputs": [
    {
     "name": "stderr",
     "output_type": "stream",
     "text": [
      "C:\\ProgramData\\Anaconda3\\lib\\site-packages\\ipykernel_launcher.py:5: DataConversionWarning: A column-vector y was passed when a 1d array was expected. Please change the shape of y to (n_samples,), for example using ravel().\n",
      "  \"\"\"\n"
     ]
    },
    {
     "name": "stdout",
     "output_type": "stream",
     "text": [
      "mean square error:  1.5491060177165334\n",
      "variance or r-squared:  0.9815786655691602\n"
     ]
    }
   ],
   "source": [
    "from sklearn.ensemble import RandomForestRegressor\n",
    "from sklearn.datasets import make_regression\n",
    "\n",
    "regr = RandomForestRegressor(n_estimators=100, random_state=0)\n",
    "regr.fit(X, y)\n",
    "regr_predicted = regr.predict(X)\n",
    "\n",
    "print(\"mean square error: \", mean_squared_error(y, regr_predicted))\n",
    "print(\"variance or r-squared: \", explained_variance_score(y, regr_predicted))"
   ]
  },
  {
   "cell_type": "code",
   "execution_count": 33,
   "metadata": {},
   "outputs": [
    {
     "data": {
      "text/plain": [
       "[(0.0008621675853693225, 'zn'),\n",
       " (0.0010777958185222794, 'chas'),\n",
       " (0.003596363638407636, 'rad'),\n",
       " (0.005628049084479768, 'indus'),\n",
       " (0.011168248289532737, 'black'),\n",
       " (0.012047944887306372, 'age'),\n",
       " (0.015455826148179301, 'tax'),\n",
       " (0.016826518627649625, 'ptratio'),\n",
       " (0.02118258662163302, 'nox'),\n",
       " (0.040525651233559536, 'crim'),\n",
       " (0.06448906999454111, 'dis'),\n",
       " (0.3538677144984843, 'lstat'),\n",
       " (0.453272063572335, 'rm')]"
      ]
     },
     "execution_count": 33,
     "metadata": {},
     "output_type": "execute_result"
    }
   ],
   "source": [
    "sorted(zip(regr.feature_importances_, X.columns))"
   ]
  },
  {
   "cell_type": "code",
   "execution_count": 34,
   "metadata": {},
   "outputs": [
    {
     "data": {
      "text/html": [
       "<div>\n",
       "<style scoped>\n",
       "    .dataframe tbody tr th:only-of-type {\n",
       "        vertical-align: middle;\n",
       "    }\n",
       "\n",
       "    .dataframe tbody tr th {\n",
       "        vertical-align: top;\n",
       "    }\n",
       "\n",
       "    .dataframe thead th {\n",
       "        text-align: right;\n",
       "    }\n",
       "</style>\n",
       "<table border=\"1\" class=\"dataframe\">\n",
       "  <thead>\n",
       "    <tr style=\"text-align: right;\">\n",
       "      <th></th>\n",
       "      <th>importance</th>\n",
       "    </tr>\n",
       "  </thead>\n",
       "  <tbody>\n",
       "    <tr>\n",
       "      <th>rm</th>\n",
       "      <td>0.453272</td>\n",
       "    </tr>\n",
       "    <tr>\n",
       "      <th>lstat</th>\n",
       "      <td>0.353868</td>\n",
       "    </tr>\n",
       "    <tr>\n",
       "      <th>dis</th>\n",
       "      <td>0.064489</td>\n",
       "    </tr>\n",
       "    <tr>\n",
       "      <th>crim</th>\n",
       "      <td>0.040526</td>\n",
       "    </tr>\n",
       "    <tr>\n",
       "      <th>nox</th>\n",
       "      <td>0.021183</td>\n",
       "    </tr>\n",
       "    <tr>\n",
       "      <th>ptratio</th>\n",
       "      <td>0.016827</td>\n",
       "    </tr>\n",
       "    <tr>\n",
       "      <th>tax</th>\n",
       "      <td>0.015456</td>\n",
       "    </tr>\n",
       "    <tr>\n",
       "      <th>age</th>\n",
       "      <td>0.012048</td>\n",
       "    </tr>\n",
       "    <tr>\n",
       "      <th>black</th>\n",
       "      <td>0.011168</td>\n",
       "    </tr>\n",
       "    <tr>\n",
       "      <th>indus</th>\n",
       "      <td>0.005628</td>\n",
       "    </tr>\n",
       "    <tr>\n",
       "      <th>rad</th>\n",
       "      <td>0.003596</td>\n",
       "    </tr>\n",
       "    <tr>\n",
       "      <th>chas</th>\n",
       "      <td>0.001078</td>\n",
       "    </tr>\n",
       "    <tr>\n",
       "      <th>zn</th>\n",
       "      <td>0.000862</td>\n",
       "    </tr>\n",
       "  </tbody>\n",
       "</table>\n",
       "</div>"
      ],
      "text/plain": [
       "         importance\n",
       "rm         0.453272\n",
       "lstat      0.353868\n",
       "dis        0.064489\n",
       "crim       0.040526\n",
       "nox        0.021183\n",
       "ptratio    0.016827\n",
       "tax        0.015456\n",
       "age        0.012048\n",
       "black      0.011168\n",
       "indus      0.005628\n",
       "rad        0.003596\n",
       "chas       0.001078\n",
       "zn         0.000862"
      ]
     },
     "execution_count": 34,
     "metadata": {},
     "output_type": "execute_result"
    }
   ],
   "source": [
    "feature_importances = pd.DataFrame(regr.feature_importances_, index = X.columns, columns=['importance']).sort_values('importance', ascending=False)\n",
    "\n",
    "feature_importances"
   ]
  },
  {
   "cell_type": "code",
   "execution_count": 35,
   "metadata": {},
   "outputs": [
    {
     "data": {
      "text/plain": [
       "<matplotlib.axes._subplots.AxesSubplot at 0x1f203e0bd48>"
      ]
     },
     "execution_count": 35,
     "metadata": {},
     "output_type": "execute_result"
    },
    {
     "data": {
      "image/png": "[encoded data removed]",
      "text/plain": [
       "<Figure size 432x288 with 1 Axes>"
      ]
     },
     "metadata": {
      "needs_background": "light"
     },
     "output_type": "display_data"
    }
   ],
   "source": [
    "feature_importances.head().plot(kind='barh')"
   ]
  },
  {
   "cell_type": "markdown",
   "metadata": {},
   "source": [
    "rm is the most important variable in predicting the medv"
   ]
  },
  {
   "cell_type": "code",
   "execution_count": 36,
   "metadata": {},
   "outputs": [
    {
     "data": {
      "text/html": [
       "<div>\n",
       "<style scoped>\n",
       "    .dataframe tbody tr th:only-of-type {\n",
       "        vertical-align: middle;\n",
       "    }\n",
       "\n",
       "    .dataframe tbody tr th {\n",
       "        vertical-align: top;\n",
       "    }\n",
       "\n",
       "    .dataframe thead th {\n",
       "        text-align: right;\n",
       "    }\n",
       "</style>\n",
       "<table border=\"1\" class=\"dataframe\">\n",
       "  <thead>\n",
       "    <tr style=\"text-align: right;\">\n",
       "      <th></th>\n",
       "      <th>crim</th>\n",
       "      <th>zn</th>\n",
       "      <th>indus</th>\n",
       "      <th>chas</th>\n",
       "      <th>nox</th>\n",
       "      <th>rm</th>\n",
       "      <th>age</th>\n",
       "      <th>dis</th>\n",
       "      <th>rad</th>\n",
       "      <th>tax</th>\n",
       "      <th>ptratio</th>\n",
       "      <th>black</th>\n",
       "      <th>lstat</th>\n",
       "    </tr>\n",
       "  </thead>\n",
       "  <tbody>\n",
       "    <tr>\n",
       "      <th>0</th>\n",
       "      <td>0.00632</td>\n",
       "      <td>18.0</td>\n",
       "      <td>2.31</td>\n",
       "      <td>0</td>\n",
       "      <td>0.538</td>\n",
       "      <td>6.575</td>\n",
       "      <td>65.2</td>\n",
       "      <td>4.0900</td>\n",
       "      <td>1</td>\n",
       "      <td>296</td>\n",
       "      <td>15.3</td>\n",
       "      <td>396.90</td>\n",
       "      <td>4.98</td>\n",
       "    </tr>\n",
       "    <tr>\n",
       "      <th>1</th>\n",
       "      <td>0.02731</td>\n",
       "      <td>0.0</td>\n",
       "      <td>7.07</td>\n",
       "      <td>0</td>\n",
       "      <td>0.469</td>\n",
       "      <td>6.421</td>\n",
       "      <td>78.9</td>\n",
       "      <td>4.9671</td>\n",
       "      <td>2</td>\n",
       "      <td>242</td>\n",
       "      <td>17.8</td>\n",
       "      <td>396.90</td>\n",
       "      <td>9.14</td>\n",
       "    </tr>\n",
       "    <tr>\n",
       "      <th>2</th>\n",
       "      <td>0.02729</td>\n",
       "      <td>0.0</td>\n",
       "      <td>7.07</td>\n",
       "      <td>0</td>\n",
       "      <td>0.469</td>\n",
       "      <td>7.185</td>\n",
       "      <td>61.1</td>\n",
       "      <td>4.9671</td>\n",
       "      <td>2</td>\n",
       "      <td>242</td>\n",
       "      <td>17.8</td>\n",
       "      <td>392.83</td>\n",
       "      <td>4.03</td>\n",
       "    </tr>\n",
       "    <tr>\n",
       "      <th>3</th>\n",
       "      <td>0.03237</td>\n",
       "      <td>0.0</td>\n",
       "      <td>2.18</td>\n",
       "      <td>0</td>\n",
       "      <td>0.458</td>\n",
       "      <td>6.998</td>\n",
       "      <td>45.8</td>\n",
       "      <td>6.0622</td>\n",
       "      <td>3</td>\n",
       "      <td>222</td>\n",
       "      <td>18.7</td>\n",
       "      <td>394.63</td>\n",
       "      <td>2.94</td>\n",
       "    </tr>\n",
       "    <tr>\n",
       "      <th>4</th>\n",
       "      <td>0.06905</td>\n",
       "      <td>0.0</td>\n",
       "      <td>2.18</td>\n",
       "      <td>0</td>\n",
       "      <td>0.458</td>\n",
       "      <td>7.147</td>\n",
       "      <td>54.2</td>\n",
       "      <td>6.0622</td>\n",
       "      <td>3</td>\n",
       "      <td>222</td>\n",
       "      <td>18.7</td>\n",
       "      <td>396.90</td>\n",
       "      <td>5.33</td>\n",
       "    </tr>\n",
       "  </tbody>\n",
       "</table>\n",
       "</div>"
      ],
      "text/plain": [
       "      crim    zn  indus  chas    nox     rm   age     dis  rad  tax  ptratio  \\\n",
       "0  0.00632  18.0   2.31     0  0.538  6.575  65.2  4.0900    1  296     15.3   \n",
       "1  0.02731   0.0   7.07     0  0.469  6.421  78.9  4.9671    2  242     17.8   \n",
       "2  0.02729   0.0   7.07     0  0.469  7.185  61.1  4.9671    2  242     17.8   \n",
       "3  0.03237   0.0   2.18     0  0.458  6.998  45.8  6.0622    3  222     18.7   \n",
       "4  0.06905   0.0   2.18     0  0.458  7.147  54.2  6.0622    3  222     18.7   \n",
       "\n",
       "    black  lstat  \n",
       "0  396.90   4.98  \n",
       "1  396.90   9.14  \n",
       "2  392.83   4.03  \n",
       "3  394.63   2.94  \n",
       "4  396.90   5.33  "
      ]
     },
     "execution_count": 36,
     "metadata": {},
     "output_type": "execute_result"
    }
   ],
   "source": [
    "#Model deployment\n",
    "scoring = pd.read_csv(\"data/b_housing_scoringdataset.csv\")\n",
    "scoring.head()"
   ]
  },
  {
   "cell_type": "code",
   "execution_count": 45,
   "metadata": {},
   "outputs": [
    {
     "data": {
      "text/plain": [
       "array([25.334, 22.041, 34.926, 33.84 , 35.495, 27.026, 22.833, 23.171,\n",
       "       16.786, 18.974, 17.686, 19.733, 21.487, 20.296, 18.633, 20.128,\n",
       "       22.373, 17.846, 19.411, 18.706, 13.978, 19.128, 15.53 , 14.622,\n",
       "       15.926, 14.52 , 16.708, 14.828, 18.9  , 22.019, 13.483, 16.729,\n",
       "       14.286, 13.633, 13.685, 19.827, 20.194, 20.877, 23.115, 29.683,\n",
       "       34.362, 27.931, 24.941, 24.578, 21.639, 19.256, 19.919, 18.186,\n",
       "       16.004, 19.495])"
      ]
     },
     "execution_count": 45,
     "metadata": {},
     "output_type": "execute_result"
    }
   ],
   "source": [
    "columns = scoring[['crim','zn','indus','chas','nox','rm','age','dis','rad','tax','ptratio','black','lstat']]\n",
    "regr.predict(columns)"
   ]
  },
  {
   "cell_type": "code",
   "execution_count": 38,
   "metadata": {},
   "outputs": [
    {
     "data": {
      "text/plain": [
       "array([[ 32.51541416],\n",
       "       [ 50.97771923],\n",
       "       [ 27.15119658],\n",
       "       [ 21.76647576],\n",
       "       [ 32.4418134 ],\n",
       "       [ 32.56242388],\n",
       "       [ 65.90204443],\n",
       "       [ 95.93467555],\n",
       "       [145.13270958],\n",
       "       [ 86.44831241],\n",
       "       [101.40007104],\n",
       "       [ 69.32432614],\n",
       "       [ 80.91845567],\n",
       "       [ 47.58153292],\n",
       "       [ 56.63466367],\n",
       "       [ 48.75753085],\n",
       "       [ 40.11301682],\n",
       "       [ 76.80185404],\n",
       "       [ 64.07727992],\n",
       "       [ 61.97149942],\n",
       "       [106.18328421],\n",
       "       [ 73.16496885],\n",
       "       [ 95.14554428],\n",
       "       [100.63062323],\n",
       "       [ 84.15661408],\n",
       "       [ 85.37604416],\n",
       "       [ 77.35654912],\n",
       "       [ 88.44589657],\n",
       "       [ 67.76141521],\n",
       "       [ 64.00913136],\n",
       "       [112.95063343],\n",
       "       [ 69.39866297],\n",
       "       [135.98975661],\n",
       "       [ 93.98812302],\n",
       "       [102.64172796],\n",
       "       [ 54.79131656],\n",
       "       [ 62.69353931],\n",
       "       [ 50.42277878],\n",
       "       [ 56.51825489],\n",
       "       [ 28.76108784],\n",
       "       [ 17.77706923],\n",
       "       [ 30.76893186],\n",
       "       [ 35.71374769],\n",
       "       [ 43.04959079],\n",
       "       [ 52.72740729],\n",
       "       [ 56.42645465],\n",
       "       [ 74.15619887],\n",
       "       [ 94.63186701],\n",
       "       [149.45013583],\n",
       "       [ 83.0368449 ]])"
      ]
     },
     "execution_count": 38,
     "metadata": {},
     "output_type": "execute_result"
    }
   ],
   "source": [
    "columns = scoring[['lstat','rm','dis']]\n",
    "model3.predict(columns)"
   ]
  },
  {
   "cell_type": "code",
   "execution_count": 43,
   "metadata": {},
   "outputs": [
    {
     "data": {
      "text/plain": [
       "array([[30.31153098],\n",
       "       [24.91067333],\n",
       "       [30.57870031],\n",
       "       [28.9245268 ],\n",
       "       [28.19684835],\n",
       "       [25.51904985],\n",
       "       [22.93777964],\n",
       "       [19.33713888],\n",
       "       [11.06437722],\n",
       "       [18.84986568],\n",
       "       [18.81017758],\n",
       "       [21.57563969],\n",
       "       [20.7495279 ],\n",
       "       [20.09024859],\n",
       "       [19.73248489],\n",
       "       [19.8071344 ],\n",
       "       [21.08940106],\n",
       "       [17.22627546],\n",
       "       [16.51072254],\n",
       "       [18.76091656],\n",
       "       [12.6235443 ],\n",
       "       [17.97993931],\n",
       "       [16.01138094],\n",
       "       [13.96908532],\n",
       "       [15.96745399],\n",
       "       [13.66428579],\n",
       "       [15.82222324],\n",
       "       [14.96178858],\n",
       "       [19.92611149],\n",
       "       [21.250269  ],\n",
       "       [11.55932439],\n",
       "       [18.40374241],\n",
       "       [ 8.7307283 ],\n",
       "       [14.44550139],\n",
       "       [13.79096905],\n",
       "       [23.79906472],\n",
       "       [22.28203531],\n",
       "       [23.18801579],\n",
       "       [22.949146  ],\n",
       "       [31.49218569],\n",
       "       [34.40656118],\n",
       "       [27.97152378],\n",
       "       [25.13530059],\n",
       "       [24.50081437],\n",
       "       [22.77314983],\n",
       "       [21.84663434],\n",
       "       [20.0701525 ],\n",
       "       [17.61968808],\n",
       "       [ 8.40574887],\n",
       "       [16.91135679]])"
      ]
     },
     "execution_count": 43,
     "metadata": {},
     "output_type": "execute_result"
    }
   ],
   "source": [
    "columns = scoring[['crim','zn','indus','chas','nox','rm','age','dis','rad','tax','ptratio','black','lstat']]\n",
    "model2.predict(columns)"
   ]
  }
 ],
 "metadata": {
  "kernelspec": {
   "display_name": "Python 3",
   "language": "python",
   "name": "python3"
  },
  "language_info": {
   "codemirror_mode": {
    "name": "ipython",
    "version": 3
   },
   "file_extension": ".py",
   "mimetype": "text/x-python",
   "name": "python",
   "nbconvert_exporter": "python",
   "pygments_lexer": "ipython3",
   "version": "3.7.6"
  },
  "toc": {
   "base_numbering": 1,
   "nav_menu": {},
   "number_sections": true,
   "sideBar": true,
   "skip_h1_title": false,
   "title_cell": "Table of Contents",
   "title_sidebar": "Contents",
   "toc_cell": false,
   "toc_position": {},
   "toc_section_display": true,
   "toc_window_display": false
  }
 },
 "nbformat": 4,
 "nbformat_minor": 4
}
